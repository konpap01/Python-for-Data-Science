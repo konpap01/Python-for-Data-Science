{
 "cells": [
  {
   "cell_type": "markdown",
   "id": "24b98369-c7ba-450b-a8b5-e34319000695",
   "metadata": {
    "slideshow": {
     "slide_type": "slide"
    },
    "tags": []
   },
   "source": [
    "# Python for Data Science\n",
    "## Session 7\n",
    "### Datasets – Pandas II"
   ]
  },
  {
   "cell_type": "markdown",
   "id": "3ace1343-d73d-466d-aa07-56febbb7cbf1",
   "metadata": {
    "slideshow": {
     "slide_type": "skip"
    },
    "tags": []
   },
   "source": [
    "---"
   ]
  },
  {
   "cell_type": "markdown",
   "id": "c5ffee69-5d4d-4f1c-9ed7-083afbc931ec",
   "metadata": {
    "slideshow": {
     "slide_type": "slide"
    },
    "tags": []
   },
   "source": [
    "## Outline\n",
    "\n",
    "1. Lambda and map\n",
    "\n",
    "2. Series\n",
    "\n",
    "2. Advanced data manipulation \n",
    "\n",
    "3. Handling missing data and data transformation "
   ]
  },
  {
   "cell_type": "markdown",
   "id": "aba315f4-e9bf-4a66-b3d3-593037c3ca70",
   "metadata": {
    "slideshow": {
     "slide_type": "skip"
    },
    "tags": []
   },
   "source": [
    "---"
   ]
  },
  {
   "cell_type": "markdown",
   "id": "8ed45dcb-2cf5-4bfa-ba6e-5da25c59757c",
   "metadata": {
    "slideshow": {
     "slide_type": "slide"
    },
    "tags": []
   },
   "source": [
    "## Pandas II \n",
    "### Lambda and map\n",
    "\n",
    "A **Lambda** function is an anonymous tranformation. It is a **pure** function, since the output only depends on the input, with no side effects. ts syntax can be expressed as:\n",
    "</p>\n",
    "\n",
    "<center> <font color='blue'>lambda</font> arguments : expression</center> \n",
    "\n",
    "</p>"
   ]
  },
  {
   "cell_type": "markdown",
   "id": "16c033e2",
   "metadata": {
    "slideshow": {
     "slide_type": "fragment"
    }
   },
   "source": [
    "### Regular function"
   ]
  },
  {
   "cell_type": "code",
   "execution_count": null,
   "id": "a6136b20",
   "metadata": {
    "slideshow": {
     "slide_type": "fragment"
    },
    "tags": []
   },
   "outputs": [],
   "source": [
    "def square(x):\n",
    "    return x * x"
   ]
  },
  {
   "cell_type": "markdown",
   "id": "618507d6",
   "metadata": {
    "slideshow": {
     "slide_type": "fragment"
    },
    "tags": []
   },
   "source": [
    "### Equivalent lambda transformation"
   ]
  },
  {
   "cell_type": "code",
   "execution_count": null,
   "id": "345c5a54",
   "metadata": {
    "slideshow": {
     "slide_type": "fragment"
    }
   },
   "outputs": [],
   "source": [
    "square_lambda = lambda x: x * x"
   ]
  },
  {
   "cell_type": "markdown",
   "id": "42f5a5b7",
   "metadata": {
    "slideshow": {
     "slide_type": "slide"
    },
    "tags": []
   },
   "source": [
    "## Pandas II\n",
    "### Lambda and map\n",
    "\n",
    "Although we can used regular functions, as we saw in the last session, with **apply**, **lambda** tends to be the usual choice for one-off transformations."
   ]
  },
  {
   "cell_type": "code",
   "execution_count": null,
   "id": "61d640e3",
   "metadata": {
    "slideshow": {
     "slide_type": "fragment"
    }
   },
   "outputs": [],
   "source": [
    "import pandas as pd\n",
    "df = pd.DataFrame({'col': [1, 0, 4, 2, 5]})\n",
    "df['col'] = df['col'].apply(lambda x: x * x)\n",
    "df"
   ]
  },
  {
   "cell_type": "markdown",
   "id": "deb1a9af",
   "metadata": {
    "slideshow": {
     "slide_type": "slide"
    }
   },
   "source": [
    "## Pandas II\n",
    "\n",
    "### Lambda and map\n",
    "\n",
    "On the other side, **map**, is another option, originally created for **series** to perform one-to-one transformations. It is supposed to be faster than **apply**. For those familiar with **applymap**, note that this method will be deprecated in future versions."
   ]
  },
  {
   "cell_type": "code",
   "execution_count": null,
   "id": "7b9ecb42",
   "metadata": {
    "slideshow": {
     "slide_type": "fragment"
    }
   },
   "outputs": [],
   "source": [
    "import numpy as np\n",
    "import time\n",
    "\n",
    "apply_values = []\n",
    "map_values = []\n",
    "for _ in range(10):\n",
    "    df = pd.DataFrame({'col': np.random.randn(1000000)})\n",
    "    ts = time.time()\n",
    "    df['col'].apply(lambda x: x * x)\n",
    "    apply_values.append(time.time() - ts)\n",
    "    \n",
    "    ts = time.time()\n",
    "    df['col'].map(lambda x: x * x)\n",
    "    map_values.append(time.time() - ts)\n",
    "    \n",
    "print(f\"Apply: it took for 1M values {np.mean(apply_values)} seconds.\")\n",
    "print(f\"Map: it took for 1M values {np.mean(map_values)} seconds.\")"
   ]
  },
  {
   "cell_type": "markdown",
   "id": "a15415a8",
   "metadata": {
    "slideshow": {
     "slide_type": "slide"
    }
   },
   "source": [
    "## Pandas II\n",
    "### series\n",
    "\n",
    "Let's jump into **series**. As we roughly mentioned in the last session, they are mainly used for time series and 1D observations. "
   ]
  },
  {
   "cell_type": "code",
   "execution_count": null,
   "id": "e0d77c53",
   "metadata": {
    "slideshow": {
     "slide_type": "fragment"
    }
   },
   "outputs": [],
   "source": [
    "s = pd.Series([np.random.randint(0, 100 + 1) for _ in range(100)])\n",
    "s.map(lambda x: x - 100).head(4) # s.apply(lambda x: x - 100) "
   ]
  },
  {
   "cell_type": "code",
   "execution_count": null,
   "id": "01567a6a",
   "metadata": {
    "slideshow": {
     "slide_type": "subslide"
    }
   },
   "outputs": [],
   "source": [
    "s = s - 100 # we can also perform easy operations over the whole series\n",
    "s.head(4)"
   ]
  },
  {
   "cell_type": "code",
   "execution_count": null,
   "id": "34f48ffb",
   "metadata": {
    "slideshow": {
     "slide_type": "subslide"
    }
   },
   "outputs": [],
   "source": [
    "s = pd.Series([1, 2, 3, 4])\n",
    "s.map({1: 'A', 2: 'B'}) # replace values using a dictionary with Map"
   ]
  },
  {
   "cell_type": "markdown",
   "id": "9e365356",
   "metadata": {
    "slideshow": {
     "slide_type": "subslide"
    }
   },
   "source": [
    "## Pandas II\n",
    "### Series\n",
    "\n",
    "Another cool method we can call is **rolling** which performs a sliding window over the whole series"
   ]
  },
  {
   "cell_type": "code",
   "execution_count": null,
   "id": "5a2c04c8",
   "metadata": {
    "slideshow": {
     "slide_type": "fragment"
    }
   },
   "outputs": [],
   "source": [
    "s = pd.Series([1, 20, 300, 4000])\n",
    "s.rolling(window=2).mean()  # 2-period rolling mean"
   ]
  },
  {
   "cell_type": "markdown",
   "id": "f8814961",
   "metadata": {
    "slideshow": {
     "slide_type": "slide"
    }
   },
   "source": [
    "## Pandas II\n",
    "### Advanced data manipulation\n",
    "\n",
    "Some methods we can use with **series** and **dataframes** are:\n",
    "\n",
    "- value_counts\n",
    "- drop_duplicates"
   ]
  },
  {
   "cell_type": "markdown",
   "id": "1b632405",
   "metadata": {
    "slideshow": {
     "slide_type": "subslide"
    }
   },
   "source": [
    "Values counts provide a fast way of exploring and handling your data"
   ]
  },
  {
   "cell_type": "code",
   "execution_count": null,
   "id": "ce0bbd3b",
   "metadata": {
    "slideshow": {
     "slide_type": "fragment"
    }
   },
   "outputs": [],
   "source": [
    "df = pd.DataFrame({\n",
    "    'student': ['Ludmila', 'Laura', 'Gerardo', 'Antonio', 'Manuel', 'Frank', 'Marco', 'Victor', 'Laura'],\n",
    "    'program': ['doctoral', 'master', 'post-doctoral', 'doctoral', 'master', 'doctoral', 'post-doctoral', 'doctoral', 'master']\n",
    "})\n",
    "df['program'].value_counts()"
   ]
  },
  {
   "cell_type": "markdown",
   "id": "c8402b07",
   "metadata": {
    "slideshow": {
     "slide_type": "subslide"
    }
   },
   "source": [
    "We can also drop duplicates based on all the columns"
   ]
  },
  {
   "cell_type": "code",
   "execution_count": null,
   "id": "46fb6e53",
   "metadata": {
    "slideshow": {
     "slide_type": "fragment"
    }
   },
   "outputs": [],
   "source": [
    "df.drop_duplicates()['program'].value_counts()"
   ]
  },
  {
   "cell_type": "markdown",
   "id": "890c0a07",
   "metadata": {
    "slideshow": {
     "slide_type": "subslide"
    }
   },
   "source": [
    "We can also remove duplicates based on specific columns"
   ]
  },
  {
   "cell_type": "code",
   "execution_count": null,
   "id": "b2edaa98",
   "metadata": {
    "slideshow": {
     "slide_type": "fragment"
    }
   },
   "outputs": [],
   "source": [
    "df = pd.DataFrame({\n",
    "    'student': ['Ludmila', 'Laura', 'Gerardo', 'Antonio', 'Ludmila'],\n",
    "    'program': ['doctoral', 'master', 'post-doctoral', 'doctoral', 'doctoral'],\n",
    "    'year': [2019, 2017, 2021, 2023, 2017]\n",
    "})\n",
    "df.drop_duplicates(subset=['student', 'program'])"
   ]
  },
  {
   "cell_type": "markdown",
   "id": "2bdb3eae",
   "metadata": {
    "slideshow": {
     "slide_type": "subslide"
    }
   },
   "source": [
    "We can also select which one to remove based on its appearance, **first** or **last**, or even drastically remove all of them by setting **keep** to **False**:"
   ]
  },
  {
   "cell_type": "code",
   "execution_count": null,
   "id": "a1544781",
   "metadata": {
    "slideshow": {
     "slide_type": "fragment"
    }
   },
   "outputs": [],
   "source": [
    "df = pd.DataFrame({\n",
    "    'student': ['Ludmila', 'Laura', 'Gerardo', 'Antonio', 'Ludmila'],\n",
    "    'program': ['doctoral', 'master', 'post-doctoral', 'doctoral', 'doctoral'],\n",
    "    'year': [2019, 2017, 2021, 2023, 2017]\n",
    "})\n",
    "df.drop_duplicates(subset=['student', 'program'], keep='last') # keep = False will remove all"
   ]
  },
  {
   "cell_type": "markdown",
   "id": "f04cc2fc",
   "metadata": {
    "slideshow": {
     "slide_type": "subslide"
    }
   },
   "source": [
    "As we mentioned in the last session, we can modify a column type. This can be an option for optimising resources. What we did not see is that we can simply call it once to modify multiple at the same time:"
   ]
  },
  {
   "cell_type": "code",
   "execution_count": null,
   "id": "01bc0ca3",
   "metadata": {
    "slideshow": {
     "slide_type": "fragment"
    }
   },
   "outputs": [],
   "source": [
    "df.astype({'year': np.int16, 'student': 'S10'}).info() "
   ]
  },
  {
   "cell_type": "markdown",
   "id": "15b0bcb2",
   "metadata": {
    "slideshow": {
     "slide_type": "subslide"
    }
   },
   "source": [
    "It may happen that some errors occur"
   ]
  },
  {
   "cell_type": "code",
   "execution_count": null,
   "id": "39a41b44",
   "metadata": {
    "slideshow": {
     "slide_type": "fragment"
    }
   },
   "outputs": [],
   "source": [
    "df = pd.DataFrame({\n",
    "    'student': ['Ludmila', 'Laura'],\n",
    "    'program': ['doctoral', 'master'],\n",
    "    'id': ['1232', 'ABDD'],\n",
    "    'year': [2019, 2017]\n",
    "})\n",
    "# ignore will leave as it was\n",
    "df.astype({'id': float}, errors='ignore') "
   ]
  },
  {
   "cell_type": "markdown",
   "id": "2addaff7",
   "metadata": {
    "slideshow": {
     "slide_type": "subslide"
    }
   },
   "source": [
    "If you want to still change the column type, and handle them in a specific way, you can use the following:"
   ]
  },
  {
   "cell_type": "code",
   "execution_count": null,
   "id": "41f97bea",
   "metadata": {
    "slideshow": {
     "slide_type": "fragment"
    }
   },
   "outputs": [],
   "source": [
    "pd.to_numeric(df['id'], errors='coerce') # Ideally, you can use to_numeric"
   ]
  },
  {
   "cell_type": "markdown",
   "id": "4cf8b42f",
   "metadata": {
    "slideshow": {
     "slide_type": "slide"
    }
   },
   "source": [
    "## Pandas II\n",
    "### Advanced data manipulation\n",
    "\n",
    "Let's do some exercices with what we learned so far. The Iris dataset can be found in: \n",
    "\n",
    "https://archive.ics.uci.edu/ml/machine-learning-databases/iris/iris.data\n",
    "\n",
    "Exercise:\n",
    "\n",
    "- Series\n",
    "    - Create a **lambda** function that classifies flowers based on their petal length (e.g., \"short\" for petal lengths less than 3 cm and \"long\" for others). Apply this function to the PetalLengthCm column using **apply**.\n",
    "    - Use **map** to convert the *Species* column into numeric values, e.g. 0 for *Iris-setosa*, 1 for *Iris-versicolor*, 2 for *Iris-virginica*.\n",
    "- DataFrame\n",
    "    - Use **value_counts** on the *Species* column to count how many entries belong to each species.\n",
    "    - Use **drop_duplicates** to remove any duplicate rows from the dataset based on SepalLengthCm and PetalLengthCm.\n",
    "    - Use **astype** to convert the *SepalLengthCm* column to a string type, then back to float type (if there are any errors, handle them gracefully).\n",
    "    - Save the modified DataFrame to a CSV file ensuring the index is included (use **to_csv**)."
   ]
  },
  {
   "cell_type": "code",
   "execution_count": null,
   "id": "348e52d5",
   "metadata": {
    "slideshow": {
     "slide_type": "skip"
    }
   },
   "outputs": [],
   "source": [
    "# Additional information to succeed in the exercises\n",
    "\n",
    "columns = ['SepalLengthCm', 'SepalWidthCm', 'PetalLengthCm', 'PetalWidthCm', 'Species']\n",
    "url = 'https://archive.ics.uci.edu/ml/machine-learning-databases/iris/iris.data'\n",
    "# Since the dataset does not come with header... we set up the columns with the above information\n",
    "df = pd.read_csv(url, header=None, names=columns)"
   ]
  },
  {
   "cell_type": "markdown",
   "id": "d9140c86",
   "metadata": {
    "slideshow": {
     "slide_type": "slide"
    }
   },
   "source": [
    "## Pandas II\n",
    "### Advanced data manipulation\n",
    "\n",
    "As we saw last session, **groupby** is a pretty handy tool. Another useful tool is **pivot_table**. It provides  statistics of a more extensive data table. "
   ]
  },
  {
   "cell_type": "code",
   "execution_count": null,
   "id": "8b42e75f",
   "metadata": {
    "slideshow": {
     "slide_type": "fragment"
    }
   },
   "outputs": [],
   "source": [
    "df = pd.DataFrame({\n",
    "    'student': ['Ludmila', 'Laura', 'Gerardo', 'Antonio', 'Manuel', 'Frank', 'Marco', 'Victor'],\n",
    "    'program': ['doctoral', 'master', 'post-doctoral', 'doctoral', 'master', 'doctoral', 'post-doctoral', 'doctoral'],\n",
    "    'grades': ['B', 'A', 'F', 'C', 'C', 'B', 'B', 'A'],\n",
    "    'marks':  [8, 10, 4, 5, 5, 8, 8, 9]\n",
    "})\n",
    "df"
   ]
  },
  {
   "cell_type": "code",
   "execution_count": null,
   "id": "c0b04b1b",
   "metadata": {
    "slideshow": {
     "slide_type": "subslide"
    }
   },
   "outputs": [],
   "source": [
    "df.pivot_table(values='marks', index='program') # it will by default use mean"
   ]
  },
  {
   "cell_type": "code",
   "execution_count": null,
   "id": "7d4cb023",
   "metadata": {
    "slideshow": {
     "slide_type": "subslide"
    }
   },
   "outputs": [],
   "source": [
    "df.pivot_table(values='marks', index='program', aggfunc='max')"
   ]
  },
  {
   "cell_type": "code",
   "execution_count": null,
   "id": "29944225",
   "metadata": {
    "slideshow": {
     "slide_type": "subslide"
    }
   },
   "outputs": [],
   "source": [
    "# here it does not make sense to use index = student, \n",
    "# since we don't have multile entries per student\n",
    "df.pivot_table(values='marks', index='student', aggfunc=['sum', 'mean'])"
   ]
  },
  {
   "cell_type": "markdown",
   "id": "b588cb08",
   "metadata": {
    "slideshow": {
     "slide_type": "slide"
    }
   },
   "source": [
    "## Pandas II\n",
    "### Advanced data manipulation\n",
    "\n",
    "Another interesting method we can use within **Pandas** is **query**. It can help us exploring in a neat manner:\n"
   ]
  },
  {
   "cell_type": "code",
   "execution_count": null,
   "id": "d3c3fde6",
   "metadata": {
    "slideshow": {
     "slide_type": "subslide"
    }
   },
   "outputs": [],
   "source": [
    "df = pd.DataFrame({\n",
    "    'student': ['Ludmila', 'Laura', 'Gerardo', 'Antonio', 'Manuel', 'Frank', 'Marco', 'Victor'],\n",
    "    'program': ['doctoral', 'master', 'post-doctoral', 'doctoral', 'master', 'doctoral', 'post-doctoral', 'doctoral'],\n",
    "    'grades': ['B', 'A', 'F', 'C', 'C', 'B', 'B', 'A'],\n",
    "    'marks':  [8, 10, 4, 5, 5, 7.8, 8, 9]\n",
    "})"
   ]
  },
  {
   "cell_type": "code",
   "execution_count": null,
   "id": "c422f439",
   "metadata": {
    "slideshow": {
     "slide_type": "fragment"
    }
   },
   "outputs": [],
   "source": [
    "df.query('marks >= 8 and grades in [\"B\", \"A\"]') "
   ]
  },
  {
   "cell_type": "markdown",
   "id": "6dd8dd71",
   "metadata": {
    "slideshow": {
     "slide_type": "subslide"
    }
   },
   "source": [
    "It's equivalent without query"
   ]
  },
  {
   "cell_type": "code",
   "execution_count": null,
   "id": "b01d2f0e",
   "metadata": {
    "slideshow": {
     "slide_type": "fragment"
    }
   },
   "outputs": [],
   "source": [
    "df[(df['marks'] >= 8) & (df['grades'].isin(['B', 'A']))]"
   ]
  },
  {
   "cell_type": "markdown",
   "id": "12dcaf0b",
   "metadata": {
    "slideshow": {
     "slide_type": "slide"
    }
   },
   "source": [
    "## Pandas II\n",
    "### Advanced data manipulation\n",
    "\n",
    "Similar to SQL, we can also **merge** and **join** dataframes based on a specific column:\n",
    "\n",
    "<table border=\"1\" style=\"border-collapse: collapse; width: 90%;\">\n",
    "  <tr>\n",
    "    <th style=\"text-align: center;\">Operation</th>\n",
    "    <th style=\"text-align: center;\">Ideal For</th>\n",
    "    <th style=\"text-align: center;\">Joins on</th>\n",
    "    <th style=\"text-align: center;\">Syntax</th>\n",
    "  </tr>\n",
    "  <tr>\n",
    "    <td style=\"text-align: center;\"><b>merge</b></td>\n",
    "    <td style=\"text-align: center;\">Column-based joins</td>\n",
    "    <td style=\"text-align: center;\">Columns or indexes</td>\n",
    "    <td style=\"text-align: center;\"><code>pd.merge(df1, df2, on='col')</code></td>\n",
    "  </tr>\n",
    "  <tr>\n",
    "    <td style=\"text-align: center;\"><b>join</b></td>\n",
    "    <td style=\"text-align: center;\">Index-based joins</td>\n",
    "    <td style=\"text-align: center;\">Index alignment</td>\n",
    "    <td style=\"text-align: center;\"><code>df1.join(df2, on='index_col')</code></td>\n",
    "  </tr>\n",
    "</table>\n"
   ]
  },
  {
   "cell_type": "code",
   "execution_count": null,
   "id": "64f0f11f",
   "metadata": {
    "slideshow": {
     "slide_type": "subslide"
    }
   },
   "outputs": [],
   "source": [
    "df = pd.DataFrame({\n",
    "    'student': ['Ludmila', 'Laura', 'Gerardo', 'Antonio', 'Manuel', 'Frank', 'Marco', 'Victor'],\n",
    "    'program': ['doctoral', 'master', 'post-doctoral', 'doctoral', 'master', 'doctoral', 'post-doctoral', 'bachelor'],\n",
    "    'grades': ['B', 'A', 'F', 'C', 'C', 'B', 'B', 'A'],\n",
    "    'marks':  [8, 10, 4, 5, 5, 7.8, 8, 9]\n",
    "})\n",
    "\n",
    "\n",
    "program_info = pd.DataFrame({\n",
    "    'program': ['doctoral', 'master', 'post-doctoral', 'pre-doctoral'],\n",
    "    'duration': ['5 years', '2 years', '3 years', '1 year'],\n",
    "})"
   ]
  },
  {
   "cell_type": "code",
   "execution_count": null,
   "id": "c1b3ba5b",
   "metadata": {
    "slideshow": {
     "slide_type": "subslide"
    }
   },
   "outputs": [],
   "source": [
    "pd.merge(df, program_info, on='program', how='inner') # merge them using inner"
   ]
  },
  {
   "cell_type": "code",
   "execution_count": null,
   "id": "de9333a3",
   "metadata": {
    "slideshow": {
     "slide_type": "subslide"
    }
   },
   "outputs": [],
   "source": [
    "pd.merge(df, program_info, on='program', how='left') # merge them using left"
   ]
  },
  {
   "cell_type": "code",
   "execution_count": null,
   "id": "9d1d35e4",
   "metadata": {
    "slideshow": {
     "slide_type": "subslide"
    }
   },
   "outputs": [],
   "source": [
    "pd.merge(df, program_info, on='program', how='right') # merge them using left"
   ]
  },
  {
   "cell_type": "code",
   "execution_count": null,
   "id": "90cb5074",
   "metadata": {
    "slideshow": {
     "slide_type": "subslide"
    }
   },
   "outputs": [],
   "source": [
    "pd.merge(df, program_info, on='program', how='outer') # merge them using outer"
   ]
  },
  {
   "cell_type": "markdown",
   "id": "9876c4e7",
   "metadata": {
    "slideshow": {
     "slide_type": "subslide"
    }
   },
   "source": [
    "We can do similar with **join** as we do for **merge**."
   ]
  },
  {
   "cell_type": "code",
   "execution_count": null,
   "id": "1489e910",
   "metadata": {
    "slideshow": {
     "slide_type": "fragment"
    }
   },
   "outputs": [],
   "source": [
    "df = pd.DataFrame({\n",
    "    'student': ['Ludmila', 'Laura', 'Gerardo', 'Antonio', 'Manuel', 'Frank', 'Marco', 'Victor'],\n",
    "    'program': ['doctoral', 'master', 'post-doctoral', 'doctoral', 'master', 'doctoral', 'post-doctoral', 'bachelor'],\n",
    "    'grades': ['B', 'A', 'F', 'C', 'C', 'B', 'B', 'A'],\n",
    "    'marks':  [8, 10, 4, 5, 5, 7.8, 8, 9]\n",
    "})\n",
    "\n",
    "\n",
    "program_info = pd.DataFrame({\n",
    "    'program': ['doctoral', 'master', 'post-doctoral', 'pre-doctoral'],\n",
    "    'duration': ['5 years', '2 years', '3 years', '1 year'],\n",
    "})\n",
    "\n",
    "program_info.set_index('program', inplace=True)\n",
    "df.join(program_info, on='program', how='inner')"
   ]
  },
  {
   "cell_type": "markdown",
   "id": "2dc30ccf",
   "metadata": {
    "slideshow": {
     "slide_type": "slide"
    }
   },
   "source": [
    "## Pandas II\n",
    "### Advanced data manipulation\n",
    "\n",
    "Another thing we can do with **pandas** consists in setting up, accessing, and slicing multi-level indices.\n"
   ]
  },
  {
   "cell_type": "markdown",
   "id": "edaecc51",
   "metadata": {
    "slideshow": {
     "slide_type": "subslide"
    }
   },
   "source": [
    "Setting up multi-level index:"
   ]
  },
  {
   "cell_type": "code",
   "execution_count": null,
   "id": "2548f41c",
   "metadata": {
    "slideshow": {
     "slide_type": "fragment"
    }
   },
   "outputs": [],
   "source": [
    "df = pd.DataFrame({\n",
    "    'student': ['Ludmila', 'Laura', 'Gerardo', 'Antonio', 'Manuel', 'Frank', 'Marco', 'Victor'],\n",
    "    'program': ['doctoral', 'master', 'post-doctoral', 'doctoral', 'master', 'doctoral', 'post-doctoral', 'bachelor'],\n",
    "    'grades': ['B', 'A', 'F', 'C', 'C', 'B', 'B', 'A'],\n",
    "    'marks':  [8, 10, 4, 5, 5, 7.8, 8, 9]\n",
    "})\n",
    "\n",
    "\n",
    "df.set_index(['program', 'grades'], inplace=True)\n",
    "df"
   ]
  },
  {
   "cell_type": "markdown",
   "id": "5307852f",
   "metadata": {
    "slideshow": {
     "slide_type": "subslide"
    }
   },
   "source": [
    "Once, set up, we can use **loc**:"
   ]
  },
  {
   "cell_type": "code",
   "execution_count": null,
   "id": "263b0f34",
   "metadata": {
    "slideshow": {
     "slide_type": "fragment"
    }
   },
   "outputs": [],
   "source": [
    "df.loc[('doctoral', 'C')] # we may have some warning here"
   ]
  },
  {
   "cell_type": "code",
   "execution_count": null,
   "id": "62512525",
   "metadata": {
    "slideshow": {
     "slide_type": "slide"
    }
   },
   "outputs": [],
   "source": [
    "df.loc['doctoral'] # we can access by the top level"
   ]
  },
  {
   "cell_type": "code",
   "execution_count": null,
   "id": "25e77c27",
   "metadata": {
    "slideshow": {
     "slide_type": "subslide"
    }
   },
   "outputs": [],
   "source": [
    "idx = pd.IndexSlice\n",
    "idx"
   ]
  },
  {
   "cell_type": "code",
   "execution_count": null,
   "id": "217bd7ae",
   "metadata": {
    "slideshow": {
     "slide_type": "fragment"
    }
   },
   "outputs": [],
   "source": [
    "idx['doctoral', 'B':'C']\n",
    "df.loc[idx['doctoral', 'B':'C'], :] # this is gonna raise an error"
   ]
  },
  {
   "cell_type": "code",
   "execution_count": null,
   "id": "5bed49ba",
   "metadata": {
    "slideshow": {
     "slide_type": "subslide"
    }
   },
   "outputs": [],
   "source": [
    "df = df.sort_index() # we sort \n",
    "df.loc[idx['doctoral', 'B':'C'], :] # it's no longer raising an error"
   ]
  },
  {
   "cell_type": "markdown",
   "id": "8dd4f548",
   "metadata": {
    "slideshow": {
     "slide_type": "subslide"
    }
   },
   "source": [
    "And, of course, we can reset index:"
   ]
  },
  {
   "cell_type": "code",
   "execution_count": null,
   "id": "afaf1528",
   "metadata": {
    "slideshow": {
     "slide_type": "fragment"
    }
   },
   "outputs": [],
   "source": [
    "df.reset_index(inplace=True)\n",
    "df"
   ]
  },
  {
   "cell_type": "markdown",
   "id": "082e0f62",
   "metadata": {
    "slideshow": {
     "slide_type": "slide"
    }
   },
   "source": [
    "## Pandas II\n",
    "### Handling Missing Data and Data Transformation\n",
    "\n",
    "From here, we will quickly see other ways of replacing missing data and string manipulation."
   ]
  },
  {
   "cell_type": "code",
   "execution_count": null,
   "id": "1b72a089",
   "metadata": {
    "slideshow": {
     "slide_type": "slide"
    }
   },
   "outputs": [],
   "source": [
    "df = pd.DataFrame({\n",
    "    'student': ['Ludmila', 'Laura', 'Gerardo', 'Antonio', 'Manuel', 'Frank', 'Marco', 'Victor'],\n",
    "    'program': ['doctoral', 'master', 'post-doctoral', 'doctoral', 'master', 'doctoral', 'post-doctoral', 'bachelor'],\n",
    "    'grades': ['B', 'A', np.nan, 'C', 'C', np.nan, 'B', 'A'],\n",
    "    'marks':  [8, 10, 4, 5, 5, 7.8, 8, 9]\n",
    "})"
   ]
  },
  {
   "cell_type": "markdown",
   "id": "21cb0b7d",
   "metadata": {
    "slideshow": {
     "slide_type": "subslide"
    }
   },
   "source": [
    "Forward filling, using the current value to fill the next missing one"
   ]
  },
  {
   "cell_type": "code",
   "execution_count": null,
   "id": "105ea45c",
   "metadata": {
    "slideshow": {
     "slide_type": "fragment"
    }
   },
   "outputs": [],
   "source": [
    "df['new_grades'] = df['grades'].ffill()\n",
    "df"
   ]
  },
  {
   "cell_type": "markdown",
   "id": "c646366b",
   "metadata": {
    "slideshow": {
     "slide_type": "subslide"
    }
   },
   "source": [
    "Backward filling, using the next value to fill the missing one"
   ]
  },
  {
   "cell_type": "code",
   "execution_count": null,
   "id": "36bc3ec8",
   "metadata": {
    "slideshow": {
     "slide_type": "fragment"
    }
   },
   "outputs": [],
   "source": [
    "df['new_grades'] = df['grades'].bfill()\n",
    "df"
   ]
  },
  {
   "cell_type": "code",
   "execution_count": null,
   "id": "fa09cdec",
   "metadata": {
    "slideshow": {
     "slide_type": "subslide"
    }
   },
   "outputs": [],
   "source": [
    "df['grades'].fillna('F') # of course, we can use the one we learned in session 6"
   ]
  },
  {
   "cell_type": "markdown",
   "id": "fbcb41c5",
   "metadata": {
    "slideshow": {
     "slide_type": "subslide"
    }
   },
   "source": [
    "Another possibility is to provide a grade map and fill the missing values using other columns, something that can certainly happen when manipulatin data."
   ]
  },
  {
   "cell_type": "code",
   "execution_count": null,
   "id": "2de41457",
   "metadata": {
    "slideshow": {
     "slide_type": "fragment"
    }
   },
   "outputs": [],
   "source": [
    "df = pd.DataFrame({\n",
    "    'student': ['Ludmila', 'Laura', 'Gerardo', 'Antonio', 'Manuel', 'Frank', 'Marco', 'Victor'],\n",
    "    'program': ['doctoral', 'master', 'post-doctoral', 'doctoral', 'master', 'doctoral', 'post-doctoral', 'bachelor'],\n",
    "    'grades': ['B', 'A', np.nan, 'C', 'C', np.nan, 'B', 'A'],\n",
    "    'marks':  [8, 10, 4, 5, 5, 7, 8, 9]\n",
    "})"
   ]
  },
  {
   "cell_type": "code",
   "execution_count": null,
   "id": "9a6c9d70",
   "metadata": {
    "slideshow": {
     "slide_type": "fragment"
    }
   },
   "outputs": [],
   "source": [
    "grade_map = {10: 'A', 9: 'A', 8: 'B', 7: 'B', 6: 'C', 5: 'C', 4: 'F', 3: 'F'}\n",
    "df['grades_numeric'] = df['marks'].map(grade_map) # we can fill missing values relying on other columns\n",
    "df"
   ]
  },
  {
   "cell_type": "markdown",
   "id": "f44ccc2a",
   "metadata": {
    "slideshow": {
     "slide_type": "subslide"
    }
   },
   "source": [
    "Another way is to interpolate:"
   ]
  },
  {
   "cell_type": "code",
   "execution_count": null,
   "id": "e3855ce5",
   "metadata": {
    "slideshow": {
     "slide_type": "fragment"
    }
   },
   "outputs": [],
   "source": [
    "df = pd.DataFrame({\n",
    "    'student': ['Ludmila', 'Laura', 'Gerardo', 'Antonio', 'Manuel', 'Frank', 'Marco', 'Victor'],\n",
    "    'program': ['doctoral', 'master', 'post-doctoral', 'doctoral', 'master', 'doctoral', 'post-doctoral', 'bachelor'],\n",
    "    'grades': ['B', 'A', np.nan, 'C', 'C', 'B', 'B', np.nan],\n",
    "    'marks':  [8, 10, np.nan, 5, 5, 7, 8, np.nan]\n",
    "})\n",
    "df['marks'].interpolate() # this won't work for categorical data like letter grades"
   ]
  },
  {
   "cell_type": "code",
   "execution_count": null,
   "id": "3096b288",
   "metadata": {
    "slideshow": {
     "slide_type": "subslide"
    }
   },
   "outputs": [],
   "source": [
    "df = pd.DataFrame({\n",
    "    'student': ['Ludmila', 'Laura', 'Gerardo', 'Antonio', 'Manuel', 'Frank', 'Marco', 'Victor'],\n",
    "    'program': ['doctoral', 'master', 'post-doctoral', 'doctoral', 'master', 'doctoral', 'post-doctoral', 'bachelor'],\n",
    "    'grades': ['B', 'A', np.nan, 'C', 'C', 'B', 'B', np.nan],\n",
    "    'marks':  [8, 10, np.nan, 5, 5, 7, 8, np.nan]\n",
    "})"
   ]
  },
  {
   "cell_type": "code",
   "execution_count": null,
   "id": "ee6ed426",
   "metadata": {
    "slideshow": {
     "slide_type": "subslide"
    }
   },
   "outputs": [],
   "source": [
    "# Like this we will replace grades with the most common value per group\n",
    "new_values = df.groupby('program')['grades'].apply(lambda x: x.fillna(x.mode()[0] if not x.mode().empty else 'F'))\n",
    "new_values # returns a Series"
   ]
  },
  {
   "cell_type": "code",
   "execution_count": null,
   "id": "2bf94656",
   "metadata": {
    "slideshow": {
     "slide_type": "subslide"
    }
   },
   "outputs": [],
   "source": [
    "second_level_index = new_values.index.get_level_values(1) # to access the second level index"
   ]
  },
  {
   "cell_type": "code",
   "execution_count": null,
   "id": "e656054f",
   "metadata": {
    "slideshow": {
     "slide_type": "fragment"
    }
   },
   "outputs": [],
   "source": [
    "df.loc[second_level_index, 'grades'] = new_values.values"
   ]
  },
  {
   "cell_type": "code",
   "execution_count": null,
   "id": "75dd641b",
   "metadata": {
    "slideshow": {
     "slide_type": "fragment"
    }
   },
   "outputs": [],
   "source": [
    "df"
   ]
  },
  {
   "cell_type": "markdown",
   "id": "6682004d",
   "metadata": {
    "slideshow": {
     "slide_type": "slide"
    }
   },
   "source": [
    "## Pandas II\n",
    "### Handling Missing Data and Data Transformation\n",
    "\n",
    "Let's do a few string manipulations with pandas"
   ]
  },
  {
   "cell_type": "markdown",
   "id": "d6c52380",
   "metadata": {
    "slideshow": {
     "slide_type": "subslide"
    }
   },
   "source": [
    "Extracting the first letter of each student's name"
   ]
  },
  {
   "cell_type": "code",
   "execution_count": null,
   "id": "898eb7e7",
   "metadata": {
    "slideshow": {
     "slide_type": "fragment"
    }
   },
   "outputs": [],
   "source": [
    "df = pd.DataFrame({\n",
    "    'student': ['Ludmila', 'Laura', 'Gerardo', 'Antonio', 'Manuel', 'Frank', 'Marco', 'Victor']\n",
    "})\n",
    "\n",
    "df['first_letter'] = df['student'].str.extract(r'(^.)')\n",
    "df"
   ]
  },
  {
   "cell_type": "code",
   "execution_count": null,
   "id": "e1f01eb7",
   "metadata": {
    "slideshow": {
     "slide_type": "subslide"
    }
   },
   "outputs": [],
   "source": [
    "df['first_letter'].str.lower() # we can change them to lower, instead of capitals (upper)"
   ]
  },
  {
   "cell_type": "code",
   "execution_count": null,
   "id": "016be15c",
   "metadata": {
    "slideshow": {
     "slide_type": "subslide"
    }
   },
   "outputs": [],
   "source": [
    "# replacing any letter by *\n",
    "df['student'].str.replace(r'[aeiouAEIOU]', '*', regex=True) # using regex on the back"
   ]
  },
  {
   "cell_type": "code",
   "execution_count": null,
   "id": "6be5a7ab",
   "metadata": {
    "slideshow": {
     "slide_type": "subslide"
    }
   },
   "outputs": [],
   "source": [
    "# check if it includes a specific letter\n",
    "df['contains_a'] = df['student'].str.contains(r'a', case=False)"
   ]
  },
  {
   "cell_type": "code",
   "execution_count": null,
   "id": "37d7060e",
   "metadata": {
    "slideshow": {
     "slide_type": "subslide"
    }
   },
   "outputs": [],
   "source": [
    "# Split columns into multiple ones, like first name and last name\n",
    "df = pd.DataFrame({\n",
    "    'professor': ['Ludmila Kuncheva', 'Antonio Torralba', 'Manuel Gonzalez', 'Bastian Leibe']\n",
    "})\n",
    "    \n",
    "df[['first_name', 'last_name']] = df['professor'].str.split(' ', expand=True)\n",
    "df"
   ]
  },
  {
   "cell_type": "code",
   "execution_count": null,
   "id": "ea1dd40f",
   "metadata": {
    "slideshow": {
     "slide_type": "subslide"
    }
   },
   "outputs": [],
   "source": [
    "# Using regex again, extracting specific information from a column\n",
    "df = pd.DataFrame({\n",
    "    'student': ['Ludmila 1960', 'Laura 1980', 'Gerardo 1970', 'Antonio 1970', 'Manuel 1960']\n",
    "})\n",
    "\n",
    "# Extract numbers from the 'student' column\n",
    "df['years'] = df['student'].str.extract(r'(\\d+)').astype(int)\n",
    "df"
   ]
  },
  {
   "cell_type": "markdown",
   "id": "357af7ec",
   "metadata": {
    "slideshow": {
     "slide_type": "slide"
    }
   },
   "source": [
    "## Pandas II\n",
    "### Handling Missing Data and Data Transformation\n",
    "\n",
    "Let's practica a little bit here, take home what you did not solve today.\n",
    "\n",
    "Exercises:"
   ]
  },
  {
   "cell_type": "markdown",
   "id": "a8b03091",
   "metadata": {
    "slideshow": {
     "slide_type": "subslide"
    }
   },
   "source": [
    "1. Create a new column called **professor_initials** that stores the initials of each professor's first and last names. Use the following data:"
   ]
  },
  {
   "cell_type": "code",
   "execution_count": null,
   "id": "d08f7771",
   "metadata": {
    "slideshow": {
     "slide_type": "fragment"
    }
   },
   "outputs": [],
   "source": [
    "data = {\n",
    "    'professor': ['Ludmila Kuncheva', 'Antonio Torralba', 'Manuel Gonzalez', 'Bastian Leibe'],\n",
    "    'department': ['Computer Science', 'Computer Vision', 'AI & Robotics', 'Autonomous Systems'],\n",
    "    'age': [45, 50, 47, 38]\n",
    "}\n",
    "\n",
    "df = pd.DataFrame(data)"
   ]
  },
  {
   "cell_type": "markdown",
   "id": "5106a7f0",
   "metadata": {
    "slideshow": {
     "slide_type": "subslide"
    }
   },
   "source": [
    "2. Given the dataframe below. Use **join** to combine this new DataFrame with the original one based on the professor column."
   ]
  },
  {
   "cell_type": "code",
   "execution_count": null,
   "id": "eef7e871",
   "metadata": {
    "slideshow": {
     "slide_type": "fragment"
    }
   },
   "outputs": [],
   "source": [
    "courses_data = {\n",
    "    'professor': ['Ludmila Kuncheva', 'Antonio Torralba', 'Manuel Gonzalez', 'Bastian Leibe'],\n",
    "    'courses': ['Machine Learning', 'Computer Vision', 'AI Programming', 'Self-Driving Cars']\n",
    "}\n",
    "df_courses = pd.DataFrame(courses_data)"
   ]
  },
  {
   "cell_type": "markdown",
   "id": "560756f3",
   "metadata": {
    "slideshow": {
     "slide_type": "subslide"
    }
   },
   "source": [
    "3. Combine the original df and df_courses DataFrames."
   ]
  },
  {
   "cell_type": "code",
   "execution_count": null,
   "id": "611a913e",
   "metadata": {
    "slideshow": {
     "slide_type": "fragment"
    }
   },
   "outputs": [],
   "source": [
    "data = {\n",
    "    'professor': ['Ludmila Kuncheva', 'Antonio Torralba', 'Manuel Gonzalez', 'Bastian Leibe'],\n",
    "    'department': ['Computer Science', 'Computer Vision', 'AI & Robotics', 'Autonomous Systems'],\n",
    "    'age': [45, 50, 47, 38]\n",
    "}\n",
    "\n",
    "df = pd.DataFrame(data)\n",
    "\n",
    "courses_data = {\n",
    "    'professor': ['Ludmila Kuncheva', 'Antonio Torralba', 'Manuel Gonzalez', 'Bastian Leibe'],\n",
    "    'courses': ['Machine Learning', 'Computer Vision', 'AI Programming', 'Self-Driving Cars']\n",
    "}\n",
    "df_courses = pd.DataFrame(courses_data)"
   ]
  },
  {
   "cell_type": "markdown",
   "id": "2f71cb7b",
   "metadata": {
    "slideshow": {
     "slide_type": "subslide"
    }
   },
   "source": [
    "4. In the professor column, create a new column professor_last_name by extracting the last name of each professor using string operations."
   ]
  },
  {
   "cell_type": "markdown",
   "id": "b093f8bd",
   "metadata": {
    "slideshow": {
     "slide_type": "slide"
    }
   },
   "source": [
    "## Pandas II\n",
    "\n",
    "### Summary\n",
    "\n",
    "Today we saw deeper ways of manipulating **dataframes** and **series**, from applying functions on columns, merging / joining multiple datasets, replacing missing values, to finally work with strings using regex in the back.\n",
    "\n",
    "We hope you enjoyed this session, see you next in session 8!"
   ]
  }
 ],
 "metadata": {
  "celltoolbar": "Slideshow",
  "kernelspec": {
   "display_name": "Python 3 (ipykernel)",
   "language": "python",
   "name": "python3"
  },
  "language_info": {
   "codemirror_mode": {
    "name": "ipython",
    "version": 3
   },
   "file_extension": ".py",
   "mimetype": "text/x-python",
   "name": "python",
   "nbconvert_exporter": "python",
   "pygments_lexer": "ipython3",
   "version": "3.10.15"
  }
 },
 "nbformat": 4,
 "nbformat_minor": 5
}
