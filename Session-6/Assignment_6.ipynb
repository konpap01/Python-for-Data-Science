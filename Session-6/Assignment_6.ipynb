{
 "cells": [
  {
   "cell_type": "markdown",
   "id": "24b98369-c7ba-450b-a8b5-e34319000695",
   "metadata": {
    "slideshow": {
     "slide_type": "slide"
    },
    "tags": []
   },
   "source": [
    "# Python for Data Science\n",
    "## Session 6\n",
    "### Datasets – Pandas I "
   ]
  },
  {
   "cell_type": "markdown",
   "id": "3ace1343-d73d-466d-aa07-56febbb7cbf1",
   "metadata": {
    "slideshow": {
     "slide_type": "skip"
    },
    "tags": []
   },
   "source": [
    "---"
   ]
  },
  {
   "cell_type": "markdown",
   "id": "c5ffee69-5d4d-4f1c-9ed7-083afbc931ec",
   "metadata": {
    "slideshow": {
     "slide_type": "slide"
    },
    "tags": []
   },
   "source": [
    "## Outline\n",
    "\n",
    "1. Pandas\n",
    "\n",
    "2. Loading and exploring datasets \n",
    "\n",
    "3. Data cleaning and preprocessing with Pandas "
   ]
  },
  {
   "cell_type": "markdown",
   "id": "aba315f4-e9bf-4a66-b3d3-593037c3ca70",
   "metadata": {
    "slideshow": {
     "slide_type": "skip"
    },
    "tags": []
   },
   "source": [
    "---"
   ]
  },
  {
   "cell_type": "markdown",
   "id": "8ed45dcb-2cf5-4bfa-ba6e-5da25c59757c",
   "metadata": {
    "slideshow": {
     "slide_type": "slide"
    },
    "tags": []
   },
   "source": [
    "## Pandas I\n",
    "\n",
    "**Pandas** is one of the most used libraries within the Data Science community. It provides a full set of tools to work with:\n",
    "- 2D data via DataFrame class\n",
    "    - SQL/Spreadsheet-like datasets (tabular data)\n",
    "    - Arbitrary matrix data with row and column labels\n",
    "    - Any type of dataset with observational / statistical data (no labels needed)\n",
    "- 1D data via Series class\n",
    "    - Time series data\n"
   ]
  },
  {
   "cell_type": "markdown",
   "id": "075176ee",
   "metadata": {
    "slideshow": {
     "slide_type": "slide"
    },
    "tags": []
   },
   "source": [
    "## Pandas I\n",
    "\n",
    "As one can see, from the type of datasets **Pandas** can handle, most of the use cases found in Data Science are covered, e.g. finance, health, biology, supply chain, or meteorology. Things **Pandas** do:\n",
    "\n",
    "1. Handling missing data\n",
    "2. Change DataFrame size, adding and removing columns and rows at will\n",
    "3. Automatic data alignment of misaligned data\n",
    "4. Group by operation\n",
    "5. Data conversion\n",
    "6. Advanced indexing\n",
    "7. Data Merging and joining \n",
    "8. Reshaping data\n",
    "9. Hierarchical indexing\n",
    "10. Read/write support for CSV, Excel, databases, and fast HDF5 format.\n",
    "11. Time series manipulation, frequency convertion, window moving statistics\n"
   ]
  },
  {
   "cell_type": "markdown",
   "id": "618507d6",
   "metadata": {
    "slideshow": {
     "slide_type": "slide"
    },
    "tags": []
   },
   "source": [
    "## Pandas I\n",
    "\n",
    "Let's create a few dataframes using different data structures and see how to start navigating them\n"
   ]
  },
  {
   "cell_type": "code",
   "execution_count": null,
   "id": "dadb6260",
   "metadata": {
    "slideshow": {
     "slide_type": "subslide"
    },
    "tags": []
   },
   "outputs": [],
   "source": [
    "## Let's create a simple DataFrame to work with\n",
    "import pandas as pd\n",
    "dataset = [\n",
    "    {\n",
    "        \"name\": \"Amelie\",\n",
    "        \"age\": 35\n",
    "    },\n",
    "    {\n",
    "        \"name\": \"Edgar\",\n",
    "        \"age\": 32\n",
    "    }\n",
    "]\n",
    "df = pd.DataFrame(dataset)\n",
    "df"
   ]
  },
  {
   "cell_type": "code",
   "execution_count": null,
   "id": "61d640e3",
   "metadata": {
    "slideshow": {
     "slide_type": "subslide"
    }
   },
   "outputs": [],
   "source": [
    "# Using a slightly different data struture\n",
    "data = {'Name': ['Amelie', 'Edgar', 'Carlos', 'Victor'],\n",
    "        'Age': [24, 27, 22, 32],\n",
    "        'Country': ['FR', 'FR', 'ES', 'GE']}\n",
    "df = pd.DataFrame(data)\n",
    "df"
   ]
  },
  {
   "cell_type": "code",
   "execution_count": null,
   "id": "0bf75560",
   "metadata": {
    "slideshow": {
     "slide_type": "fragment"
    }
   },
   "outputs": [],
   "source": [
    "# we can quickly visualize all the columns a dataframe contains by simply\n",
    "df.columns"
   ]
  },
  {
   "cell_type": "code",
   "execution_count": null,
   "id": "7b9ecb42",
   "metadata": {
    "slideshow": {
     "slide_type": "subslide"
    }
   },
   "outputs": [],
   "source": [
    "# Another important thing we can do is to set up any specific index\n",
    "# these act as row labels\n",
    "df = pd.DataFrame(data, index=['A', 'B', 'C', 'D'])\n",
    "df"
   ]
  },
  {
   "cell_type": "code",
   "execution_count": null,
   "id": "8807d960",
   "metadata": {
    "slideshow": {
     "slide_type": "fragment"
    }
   },
   "outputs": [],
   "source": [
    "# Similar to lists and arrays, we can slice\n",
    "df[:2]"
   ]
  },
  {
   "cell_type": "code",
   "execution_count": null,
   "id": "e0d77c53",
   "metadata": {
    "slideshow": {
     "slide_type": "fragment"
    }
   },
   "outputs": [],
   "source": [
    "# Similar to lists and arrays, we can also access elements making use of loc and iloc\n",
    "df.loc['B':'D']"
   ]
  },
  {
   "cell_type": "code",
   "execution_count": null,
   "id": "01567a6a",
   "metadata": {
    "slideshow": {
     "slide_type": "fragment"
    }
   },
   "outputs": [],
   "source": [
    "# We can access elements using loc and iloc\n",
    "df.iloc[1:]"
   ]
  },
  {
   "cell_type": "code",
   "execution_count": null,
   "id": "34f48ffb",
   "metadata": {
    "slideshow": {
     "slide_type": "subslide"
    }
   },
   "outputs": [],
   "source": [
    "# We can also access element attributes by using at\n",
    "df.at[0, 'Age']"
   ]
  },
  {
   "cell_type": "code",
   "execution_count": null,
   "id": "06b5f72a",
   "metadata": {
    "slideshow": {
     "slide_type": "fragment"
    }
   },
   "outputs": [],
   "source": [
    "# if we wanted to do it with iloc, we would need to pass positions\n",
    "df.iloc[0,1]"
   ]
  },
  {
   "cell_type": "code",
   "execution_count": null,
   "id": "b62121b9",
   "metadata": {
    "slideshow": {
     "slide_type": "subslide"
    }
   },
   "outputs": [],
   "source": [
    "# Important: to modify a specific value we can use at, loc and iloc\n",
    "df.loc['B', 'Age'] = 123\n",
    "df"
   ]
  },
  {
   "cell_type": "code",
   "execution_count": null,
   "id": "4114103e",
   "metadata": {
    "slideshow": {
     "slide_type": "subslide"
    }
   },
   "outputs": [],
   "source": [
    "# we can also check what elements satisfy some criteria by column (attribute)\n",
    "df['Age'] > 25"
   ]
  },
  {
   "cell_type": "code",
   "execution_count": null,
   "id": "7058bfd2",
   "metadata": {
    "slideshow": {
     "slide_type": "fragment"
    }
   },
   "outputs": [],
   "source": [
    "# and show them\n",
    "df[df['Age'] > 25]"
   ]
  },
  {
   "cell_type": "code",
   "execution_count": null,
   "id": "3840700f",
   "metadata": {
    "slideshow": {
     "slide_type": "fragment"
    }
   },
   "outputs": [],
   "source": [
    "# or modify a simple attribute of those that satisfy certain condition\n",
    "df.loc[df['Age'] > 25, 'Name'] = 'Unknown' # df.iloc[df['Age'] > 25, 0] = 'Unknown'\n",
    "df"
   ]
  },
  {
   "cell_type": "code",
   "execution_count": null,
   "id": "9210a350",
   "metadata": {
    "slideshow": {
     "slide_type": "subslide"
    }
   },
   "outputs": [],
   "source": [
    "# we can also, similar to the way we do with dicts, add new columns\n",
    "df['Residency'] = [True, False, True, False]"
   ]
  },
  {
   "cell_type": "code",
   "execution_count": null,
   "id": "7df4dbbe",
   "metadata": {
    "slideshow": {
     "slide_type": "fragment"
    }
   },
   "outputs": [],
   "source": [
    "# or add new elements\n",
    "df.loc[6] = ['Jordi', 23, 'ES', False]\n",
    "df.loc[9] = ['Anna', 19, 'ES', False]\n",
    "df"
   ]
  },
  {
   "cell_type": "code",
   "execution_count": null,
   "id": "e148494c",
   "metadata": {
    "slideshow": {
     "slide_type": "subslide"
    }
   },
   "outputs": [],
   "source": [
    "# There are other methods one can also call\n",
    "df.head(2)"
   ]
  },
  {
   "cell_type": "code",
   "execution_count": null,
   "id": "3e1b0460",
   "metadata": {
    "slideshow": {
     "slide_type": "subslide"
    }
   },
   "outputs": [],
   "source": [
    "# There are other methods one can also call\n",
    "df.tail(2)"
   ]
  },
  {
   "cell_type": "code",
   "execution_count": null,
   "id": "768839ee",
   "metadata": {
    "slideshow": {
     "slide_type": "fragment"
    }
   },
   "outputs": [],
   "source": [
    "df.shape # to get the dataframe shape"
   ]
  },
  {
   "cell_type": "code",
   "execution_count": null,
   "id": "f12ce0c6",
   "metadata": {
    "slideshow": {
     "slide_type": "subslide"
    }
   },
   "outputs": [],
   "source": [
    "df.dtypes"
   ]
  },
  {
   "cell_type": "code",
   "execution_count": null,
   "id": "67ddab46",
   "metadata": {
    "slideshow": {
     "slide_type": "fragment"
    }
   },
   "outputs": [],
   "source": [
    "df['Age'].astype('float')"
   ]
  },
  {
   "cell_type": "code",
   "execution_count": null,
   "id": "892f25df",
   "metadata": {
    "slideshow": {
     "slide_type": "subslide"
    }
   },
   "outputs": [],
   "source": [
    "# Same as numpy, we can find the unique method\n",
    "df['Country'].unique()"
   ]
  },
  {
   "cell_type": "markdown",
   "id": "b84a9518",
   "metadata": {
    "slideshow": {
     "slide_type": "slide"
    },
    "tags": []
   },
   "source": [
    "## Pandas I\n",
    "\n",
    "Among the different methods two important ones are **info** and **describe**:"
   ]
  },
  {
   "cell_type": "code",
   "execution_count": null,
   "id": "d700ed8f",
   "metadata": {
    "slideshow": {
     "slide_type": "subslide"
    }
   },
   "outputs": [],
   "source": [
    "df.info()"
   ]
  },
  {
   "cell_type": "code",
   "execution_count": null,
   "id": "7bd82b94",
   "metadata": {
    "slideshow": {
     "slide_type": "fragment"
    }
   },
   "outputs": [],
   "source": [
    "df.describe()"
   ]
  },
  {
   "cell_type": "markdown",
   "id": "0a7e42a2",
   "metadata": {
    "slideshow": {
     "slide_type": "slide"
    },
    "tags": []
   },
   "source": [
    "## Pandas I\n",
    "\n",
    "And how do we know about missing elements and handle them?"
   ]
  },
  {
   "cell_type": "code",
   "execution_count": null,
   "id": "7ea94ab1",
   "metadata": {
    "slideshow": {
     "slide_type": "subslide"
    }
   },
   "outputs": [],
   "source": [
    "# What about missing values? Missing values are usually represented as NaN (Not a Number)\n",
    "import numpy as np\n",
    "data = {'Name': ['Amelie', 'Edgar', 'Carlos', 'Victor'],\n",
    "        'Age': [24, 27, 22, 32],\n",
    "        'Country': ['FR', np.nan, 'ES', 'GE']}\n",
    "df = pd.DataFrame(data)\n",
    "df"
   ]
  },
  {
   "cell_type": "code",
   "execution_count": null,
   "id": "b6aca5c7",
   "metadata": {
    "slideshow": {
     "slide_type": "subslide"
    }
   },
   "outputs": [],
   "source": [
    "# we can simply know which ones present missing values by using isna or isnull\n",
    "df.isna() # at the whole dataframe level"
   ]
  },
  {
   "cell_type": "code",
   "execution_count": null,
   "id": "f39b5102",
   "metadata": {
    "slideshow": {
     "slide_type": "fragment"
    }
   },
   "outputs": [],
   "source": [
    "# and at the column level\n",
    "df['Country'].isnull() # same as .isna()"
   ]
  },
  {
   "cell_type": "code",
   "execution_count": null,
   "id": "e5e50494",
   "metadata": {
    "slideshow": {
     "slide_type": "fragment"
    }
   },
   "outputs": [],
   "source": [
    "# Simple way of filling these ones is achieved by calling fillna\n",
    "df.fillna('RE')"
   ]
  },
  {
   "cell_type": "code",
   "execution_count": null,
   "id": "89b41678",
   "metadata": {
    "slideshow": {
     "slide_type": "subslide"
    }
   },
   "outputs": [],
   "source": [
    "# There's also possible thing you can do, use the mode (most common value)\n",
    "#df['Country'].mode()\n",
    "df.fillna(df['Country'].mode()[0])"
   ]
  },
  {
   "cell_type": "code",
   "execution_count": null,
   "id": "155692eb",
   "metadata": {
    "slideshow": {
     "slide_type": "subslide"
    }
   },
   "outputs": [],
   "source": [
    "# IMPORTANT: if we check again the dataframe, we will see that the dataframe keeps having NaNs\n",
    "# This is because the intented behaviour is usually to keep the DataFrame immutable\n",
    "# If you want to actually modify you can pass ot fillna, inplace=True\n",
    "df"
   ]
  },
  {
   "cell_type": "code",
   "execution_count": null,
   "id": "044fb350",
   "metadata": {
    "slideshow": {
     "slide_type": "fragment"
    }
   },
   "outputs": [],
   "source": [
    "# A more drastic operation is to drop any column or row with missing values using\n",
    "# here, we will modify the original dataframe and drop the rows and cols with nans\n",
    "df.at[0, 'Age'] = np.nan\n",
    "df"
   ]
  },
  {
   "cell_type": "code",
   "execution_count": null,
   "id": "ddeeed46",
   "metadata": {
    "slideshow": {
     "slide_type": "fragment"
    }
   },
   "outputs": [],
   "source": [
    "df.dropna()"
   ]
  },
  {
   "cell_type": "markdown",
   "id": "d2b5fa41",
   "metadata": {
    "slideshow": {
     "slide_type": "slide"
    },
    "tags": []
   },
   "source": [
    "## Pandas I\n",
    "\n",
    "One of the handy tools you have in **Pandas** is **groupby**. It allows you to group by any unique attributes within a column and get statistics:\n",
    "- count\n",
    "- mean\n",
    "- sum\n",
    "- min and max\n",
    "- multiple aggregations\n",
    "- group using multiple columns"
   ]
  },
  {
   "cell_type": "code",
   "execution_count": null,
   "id": "527cf9f9",
   "metadata": {
    "slideshow": {
     "slide_type": "subslide"
    }
   },
   "outputs": [],
   "source": [
    "data = {\n",
    "    'Name': ['Amelie', 'Edgar', 'Carlos', 'Victor', 'Sofia', 'Jin', \n",
    "             'Marta', 'Ali', 'Emily', 'Ravi', 'Chen', 'Fatima', 'Saham'],\n",
    "    'Age': [24, 27, 22, 32, 29, 31, 28, 26, 23, 34, 25, 30, 26],\n",
    "    'Country': ['FR', 'US', 'ES', 'GE', 'PT', 'KR',\n",
    "                'ES', 'AE', 'US', 'IN', 'CN', 'AE', 'AE'],\n",
    "    'Salary': [70000, 110000, 65000, 82000, 48000, 39000, 45000,\n",
    "            90000, 97000, 31000, 49000, 85000, 80000]   \n",
    "}\n",
    "\n",
    "df = pd.DataFrame(data)\n",
    "df"
   ]
  },
  {
   "cell_type": "code",
   "execution_count": null,
   "id": "f3b3b90d",
   "metadata": {
    "slideshow": {
     "slide_type": "subslide"
    }
   },
   "outputs": [],
   "source": [
    "# let's count how many we have per country\n",
    "df.groupby('Country').count()"
   ]
  },
  {
   "cell_type": "code",
   "execution_count": null,
   "id": "8d215163",
   "metadata": {
    "slideshow": {
     "slide_type": "subslide"
    }
   },
   "outputs": [],
   "source": [
    "df.groupby('Country')['Age'].mean() # now let's know the average age per country"
   ]
  },
  {
   "cell_type": "code",
   "execution_count": null,
   "id": "6ab92c31",
   "metadata": {
    "slideshow": {
     "slide_type": "subslide"
    }
   },
   "outputs": [],
   "source": [
    "df.groupby('Country')['Salary'].sum() # total sum of their salaries"
   ]
  },
  {
   "cell_type": "code",
   "execution_count": null,
   "id": "0408696b",
   "metadata": {
    "slideshow": {
     "slide_type": "subslide"
    }
   },
   "outputs": [],
   "source": [
    "# Multiple Aggregations\n",
    "df.groupby('Country').agg({'Salary': ['min', 'max'], 'Age': 'mean'})"
   ]
  },
  {
   "cell_type": "code",
   "execution_count": null,
   "id": "2b4df5c9",
   "metadata": {
    "slideshow": {
     "slide_type": "subslide"
    }
   },
   "outputs": [],
   "source": [
    "# grouping using more than one column\n",
    "df.groupby(['Country', 'Age'])['Salary'].count()"
   ]
  },
  {
   "cell_type": "markdown",
   "id": "054e849a",
   "metadata": {
    "slideshow": {
     "slide_type": "slide"
    },
    "tags": []
   },
   "source": [
    "## Pandas I\n",
    "\n",
    "Let's load *Netflix* titles and do some exercices"
   ]
  },
  {
   "cell_type": "code",
   "execution_count": null,
   "id": "2b55e011",
   "metadata": {
    "slideshow": {
     "slide_type": "subslide"
    }
   },
   "outputs": [],
   "source": [
    "# Download from Moodle the zip file containing the netflix dataset\n",
    "path = 'session_6/netflix_titles.csv'\n",
    "\n",
    "df = pd.read_csv(path)"
   ]
  },
  {
   "cell_type": "code",
   "execution_count": null,
   "id": "a94b5dc2",
   "metadata": {
    "slideshow": {
     "slide_type": "subslide"
    }
   },
   "outputs": [],
   "source": [
    "df.columns"
   ]
  },
  {
   "cell_type": "markdown",
   "id": "00012cb1",
   "metadata": {
    "slideshow": {
     "slide_type": "slide"
    }
   },
   "source": [
    "## Pandas I\n",
    "Let's do the following exercices:\n",
    "\n",
    "1. Count Missing Values in Each Column\n",
    "\n",
    "2. Fill Missing 'country' Values with \"Unknown\"\n",
    "\n",
    "3. Filter for TV Shows Only\n",
    "\n",
    "4. Count the Number of Entries per Rating\n",
    "\n",
    "5. Add a Column Showing Content Age (how many years since it came out)\n"
   ]
  },
  {
   "cell_type": "markdown",
   "id": "0c2ab4b4",
   "metadata": {
    "slideshow": {
     "slide_type": "slide"
    },
    "tags": []
   },
   "source": [
    "## Pandas I\n",
    "\n",
    "Let's now load the *Titanic* dataset and practice a little bit more:\n",
    "\n",
    "1. Count the Missing Values in Each Column\n",
    "\n",
    "2. Fill Missing 'Age' Values with the Mean Age\n",
    "\n",
    "3. Fill Missing 'Embarked' Values with the Mode (Most Common Value)\n",
    "\n",
    "4. Filter and Display Passengers Who Paid a Fare Above the Average Fare\n",
    "\n",
    "5. Add a New Column Indicating Family Size. Create a new column 'FamilySize' as the sum of 'SibSp' (siblings/spouses) and 'Parch' (parents/children)"
   ]
  },
  {
   "cell_type": "code",
   "execution_count": null,
   "id": "961a8ca7",
   "metadata": {
    "slideshow": {
     "slide_type": "subslide"
    }
   },
   "outputs": [],
   "source": [
    "path = 'session_6/train_and_test2.csv'\n",
    "\n",
    "df = pd.read_csv(path)"
   ]
  },
  {
   "cell_type": "markdown",
   "id": "ae883a57",
   "metadata": {
    "slideshow": {
     "slide_type": "slide"
    }
   },
   "source": [
    "## Pandas I\n",
    "\n",
    "Home exercises for Netflix:\n",
    "\n",
    "1. Is there any missing rating?\n",
    "2. How many films in 2021 correspond to your country?\n",
    "3. What's the number of movies in 2020 with full information?\n",
    "4. Give me the year with more titles,\n",
    "5. and what has been the average in terms of releases from 2010. \n",
    "\n",
    "And for Titanic:\n",
    "\n",
    "1. Calculate Gender-Based Survival Percentage\n",
    "\n",
    "2. Calculate Survival Percentage Grouped by Gender and Class"
   ]
  },
  {
   "cell_type": "code",
   "execution_count": null,
   "id": "d05c4735",
   "metadata": {},
   "outputs": [],
   "source": []
  }
 ],
 "metadata": {
  "celltoolbar": "Slideshow",
  "kernelspec": {
   "display_name": "Python 3 (ipykernel)",
   "language": "python",
   "name": "python3"
  },
  "language_info": {
   "codemirror_mode": {
    "name": "ipython",
    "version": 3
   },
   "file_extension": ".py",
   "mimetype": "text/x-python",
   "name": "python",
   "nbconvert_exporter": "python",
   "pygments_lexer": "ipython3",
   "version": "3.10.15"
  }
 },
 "nbformat": 4,
 "nbformat_minor": 5
}
